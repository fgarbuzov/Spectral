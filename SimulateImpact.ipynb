{
 "cells": [
  {
   "cell_type": "code",
   "execution_count": 3,
   "id": "c954bde3",
   "metadata": {},
   "outputs": [],
   "source": [
    "from elastic_body import *\n",
    "from utils import *\n",
    "from progress import ProgressBarText\n",
    "import time\n",
    "\n",
    "import numpy as np\n",
    "import scipy as sp\n",
    "import scipy.integrate\n",
    "\n",
    "import sys\n",
    "import os\n",
    "import matplotlib.pyplot as plt\n",
    "\n",
    "res_path = os.path.join(PROJ_PATH, RESULTS_DIR)"
   ]
  },
  {
   "cell_type": "code",
   "execution_count": 4,
   "id": "72ba66b9",
   "metadata": {},
   "outputs": [],
   "source": [
    "# material (moduli)\n",
    "material_file = open(os.path.join(PROJ_PATH, PARAMS_DIR, 'ps_retarded_nonlin'))\n",
    "moduli_dict = parse_input_file(material_file)\n",
    "material_file.close()\n",
    "\n",
    "# force\n",
    "impact_dict = {IMPACT_AMPL: 0.02, IMPACT_TIME: 0.5}\n",
    "ampl = impact_dict[IMPACT_AMPL]\n",
    "w = impact_dict[IMPACT_TIME]\n",
    "\n",
    "def f(t):\n",
    "    if np.abs(t/w) > 20:\n",
    "        F = 0*t, 0*t, 0*t\n",
    "    else:\n",
    "        F = ampl*np.cosh(t/w)**(-2), 0, 0\n",
    "    return np.asarray(F)[:,None,None]\n",
    "\n",
    "# simulation times\n",
    "tmax = 100\n",
    "dt = 2\n",
    "t0 = -8*w\n",
    "T = np.arange(t0, tmax + dt/2, dt)"
   ]
  },
  {
   "cell_type": "code",
   "execution_count": 5,
   "id": "6c1c67ff",
   "metadata": {},
   "outputs": [],
   "source": [
    "# output files prefix\n",
    "output_prefix = 'nonlin_visc_len_200_'\n",
    "\n",
    "# waveguide\n",
    "geometry_dict = {BODY_TYPE: BAR,\n",
    "                 LENGTH: 200,\n",
    "                 H_Y: 10,\n",
    "                 H_Z: 10,\n",
    "                 DOM_NUM: [40, 2, 2],\n",
    "                 DOM_PNT: [10, 10, 10],\n",
    "                 DOM_PER: [False,] * 3}\n",
    "\n",
    "# create body and mesh\n",
    "params_dict = {**moduli_dict, **geometry_dict, **impact_dict}\n",
    "body, mesh = create_body_and_mesh(params_dict)"
   ]
  },
  {
   "cell_type": "code",
   "execution_count": 9,
   "id": "a17abf45",
   "metadata": {},
   "outputs": [],
   "source": [
    "def derivative(t, y):\n",
    "    bval = [(f(t), 0),] + [(0, 0),] + [(0, 0),]\n",
    "    vects = decompress_tens_ret(y, mesh, ret_num=body.ret_num)\n",
    "    ders = body.derivative_nonlin(bval, *vects)\n",
    "    return compress_tens_ret(*ders)"
   ]
  },
  {
   "cell_type": "code",
   "execution_count": 10,
   "id": "d650d4a3",
   "metadata": {},
   "outputs": [],
   "source": [
    "# create output parameters file\n",
    "if not os.path.exists(res_path):\n",
    "    os.mkdir(res_path)\n",
    "of = open(os.path.join(res_path, output_prefix + PARAMS_FILENAME), 'w')\n",
    "params_dict[STOP_TIME] = tmax\n",
    "params_dict[TIME_STEP] = dt\n",
    "params_dict[START_TIME] = t0\n",
    "save_params(of, params_dict)"
   ]
  },
  {
   "cell_type": "code",
   "execution_count": 11,
   "id": "2709ced4",
   "metadata": {},
   "outputs": [
    {
     "name": "stdout",
     "output_type": "stream",
     "text": [
      "Progress: |██████████████████████████████| 100.0% Elapsed: 1:38:40, Estimated: 1:38:40\n"
     ]
    }
   ],
   "source": [
    "# create arrays\n",
    "u0 = TensorField(mesh, np.zeros((3,) + mesh.shape))\n",
    "v0 = TensorField(mesh, np.zeros((3,) + mesh.shape))\n",
    "r0 = TensorField(mesh, np.zeros((body.ret_num, 3, 3) + mesh.shape))\n",
    "U = TensorField(mesh, np.zeros((len(T), 3) + mesh.shape))\n",
    "U[0] = u0\n",
    "\n",
    "# prepare simulation\n",
    "integrator = sp.integrate.ode(derivative).set_integrator(\n",
    "    'dop853', rtol=1e-10, atol=1e-10, nsteps=1e6)\n",
    "integrator.set_initial_value(compress_tens_ret(u0, v0, r0), t=t0)\n",
    "\n",
    "# simulate\n",
    "for k, t in enumerate(ProgressBarText(T[1:]), 1):\n",
    "    # integrate\n",
    "    if t > integrator.t:\n",
    "        integrator.integrate(t)\n",
    "    vects = decompress_tens_ret(integrator.y, mesh, ret_num=body.ret_num)\n",
    "    U[k] = vects[0]"
   ]
  },
  {
   "cell_type": "code",
   "execution_count": 12,
   "id": "62f6c221-41dc-44f6-88e6-4296d6c1a3ae",
   "metadata": {},
   "outputs": [],
   "source": [
    "# save simulation\n",
    "np.save(os.path.join(res_path, output_prefix + U_FILENAME), U.func)"
   ]
  },
  {
   "cell_type": "code",
   "execution_count": null,
   "id": "a87b7d9c",
   "metadata": {},
   "outputs": [],
   "source": []
  }
 ],
 "metadata": {
  "kernelspec": {
   "display_name": "Python 3 (ipykernel)",
   "language": "python",
   "name": "python3"
  },
  "language_info": {
   "codemirror_mode": {
    "name": "ipython",
    "version": 3
   },
   "file_extension": ".py",
   "mimetype": "text/x-python",
   "name": "python",
   "nbconvert_exporter": "python",
   "pygments_lexer": "ipython3",
   "version": "3.11.10"
  }
 },
 "nbformat": 4,
 "nbformat_minor": 5
}
