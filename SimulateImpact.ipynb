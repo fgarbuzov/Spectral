{
 "cells": [
  {
   "cell_type": "code",
   "execution_count": 2,
   "id": "c954bde3",
   "metadata": {},
   "outputs": [],
   "source": [
    "from elastic_body import *\n",
    "from utils import *\n",
    "from progress import ProgressBarText\n",
    "import time\n",
    "\n",
    "import numpy as np\n",
    "import scipy as sp\n",
    "import scipy.integrate\n",
    "\n",
    "import sys\n",
    "import os\n",
    "import matplotlib.pyplot as plt\n",
    "\n",
    "res_path = os.path.join(PROJ_PATH, RESULTS_DIR)"
   ]
  },
  {
   "cell_type": "code",
   "execution_count": 3,
   "id": "7f007a1e-fe30-4f2d-b41a-ada1d04851c4",
   "metadata": {},
   "outputs": [],
   "source": [
    "# output files prefix\n",
    "output_prefix = 'nonlin_visc_len_200_'"
   ]
  },
  {
   "cell_type": "code",
   "execution_count": 4,
   "id": "72ba66b9",
   "metadata": {},
   "outputs": [],
   "source": [
    "# material (moduli)\n",
    "material_file = open(os.path.join(PROJ_PATH, PARAMS_DIR, 'ps_retarded_nonlin'))\n",
    "moduli_dict = parse_input_file(material_file)\n",
    "material_file.close()\n",
    "\n",
    "# force\n",
    "impact_dict = {IMPACT_AMPL: 0.02, IMPACT_TIME: 0.5}\n",
    "ampl = impact_dict[IMPACT_AMPL]\n",
    "w = impact_dict[IMPACT_TIME]\n",
    "\n",
    "# waveguide\n",
    "geometry_dict = {BODY_TYPE: BAR,\n",
    "                 LENGTH: 200,\n",
    "                 H_Y: 10,\n",
    "                 H_Z: 10,\n",
    "                 DOM_NUM: [40, 2, 2],\n",
    "                 DOM_PNT: [10, 10, 10],\n",
    "                 DOM_PER: [False,] * 3}\n",
    "\n",
    "params_dict = {**moduli_dict, **geometry_dict, **impact_dict}\n",
    "\n",
    "# simulation times\n",
    "tmax = 100\n",
    "dt = 2\n",
    "t0 = -8*w\n",
    "T = np.arange(t0, tmax + dt/2, dt)\n",
    "\n",
    "params_dict[STOP_TIME] = tmax\n",
    "params_dict[TIME_STEP] = dt\n",
    "params_dict[START_TIME] = t0"
   ]
  },
  {
   "cell_type": "markdown",
   "id": "0723d7f9-e1c9-4049-a9a3-710bf560b4a4",
   "metadata": {},
   "source": [
    "Instead of the loading and defining parameters in the previous cell, you can load all of them from a file:"
   ]
  },
  {
   "cell_type": "code",
   "execution_count": 17,
   "id": "fe2b26f3-1e80-448f-b203-2dbe1b88f328",
   "metadata": {},
   "outputs": [],
   "source": [
    "with open(os.path.join(PARAMS_DIR, 'nonlin_visc_len_200_params')) as f:\n",
    "    params_dict = parse_input_file(f)"
   ]
  },
  {
   "cell_type": "code",
   "execution_count": 18,
   "id": "6c1c67ff",
   "metadata": {},
   "outputs": [],
   "source": [
    "# create body and mesh\n",
    "body, mesh = create_body_and_mesh(params_dict)"
   ]
  },
  {
   "cell_type": "code",
   "execution_count": 19,
   "id": "d650d4a3",
   "metadata": {},
   "outputs": [],
   "source": [
    "# create output parameters file\n",
    "if not os.path.exists(res_path):\n",
    "    os.mkdir(res_path)\n",
    "with open(os.path.join(res_path, output_prefix + PARAMS_FILENAME), 'w') as of:\n",
    "    save_params(of, params_dict)"
   ]
  },
  {
   "cell_type": "code",
   "execution_count": 20,
   "id": "a17abf45",
   "metadata": {},
   "outputs": [],
   "source": [
    "# force\n",
    "def f(t):\n",
    "    if np.abs(t/w) > 20:\n",
    "        F = 0*t, 0*t, 0*t\n",
    "    else:\n",
    "        F = ampl*np.cosh(t/w)**(-2), 0, 0\n",
    "    return np.asarray(F)[:,None,None]\n",
    "\n",
    "# derivative to pass into ode solver\n",
    "def derivative(t, y):\n",
    "    bval = [(f(t), 0),] + [(0, 0),] + [(0, 0),]\n",
    "    vects = decompress_tens_ret(y, mesh, ret_num=body.ret_num)\n",
    "    ders = body.derivative_nonlin(bval, *vects)\n",
    "    return compress_tens_ret(*ders)"
   ]
  },
  {
   "cell_type": "code",
   "execution_count": 21,
   "id": "2709ced4",
   "metadata": {},
   "outputs": [
    {
     "name": "stdout",
     "output_type": "stream",
     "text": [
      "Progress: |██████████████████████████████| 100.0% Elapsed: 1:14:31, Estimated: 1:14:31\n"
     ]
    }
   ],
   "source": [
    "# create arrays\n",
    "u0 = TensorField(mesh, np.zeros((3,) + mesh.shape))\n",
    "v0 = TensorField(mesh, np.zeros((3,) + mesh.shape))\n",
    "r0 = TensorField(mesh, np.zeros((body.ret_num, 3, 3) + mesh.shape))\n",
    "U = TensorField(mesh, np.zeros((len(T), 3) + mesh.shape))\n",
    "U[0] = u0\n",
    "\n",
    "# prepare simulation\n",
    "integrator = sp.integrate.ode(derivative).set_integrator(\n",
    "    'dop853', rtol=1e-10, atol=1e-10, nsteps=1e6)\n",
    "integrator.set_initial_value(compress_tens_ret(u0, v0, r0), t=t0)\n",
    "\n",
    "# simulate\n",
    "for k, t in enumerate(ProgressBarText(T[1:]), 1):\n",
    "    # integrate\n",
    "    if t > integrator.t:\n",
    "        integrator.integrate(t)\n",
    "    vects = decompress_tens_ret(integrator.y, mesh, ret_num=body.ret_num)\n",
    "    U[k] = vects[0]"
   ]
  },
  {
   "cell_type": "code",
   "execution_count": 22,
   "id": "62f6c221-41dc-44f6-88e6-4296d6c1a3ae",
   "metadata": {},
   "outputs": [],
   "source": [
    "# save simulation\n",
    "np.save(os.path.join(res_path, output_prefix + U_FILENAME), U.func)"
   ]
  },
  {
   "cell_type": "code",
   "execution_count": null,
   "id": "a87b7d9c",
   "metadata": {},
   "outputs": [],
   "source": []
  }
 ],
 "metadata": {
  "kernelspec": {
   "display_name": "Python 3 (ipykernel)",
   "language": "python",
   "name": "python3"
  },
  "language_info": {
   "codemirror_mode": {
    "name": "ipython",
    "version": 3
   },
   "file_extension": ".py",
   "mimetype": "text/x-python",
   "name": "python",
   "nbconvert_exporter": "python",
   "pygments_lexer": "ipython3",
   "version": "3.11.10"
  }
 },
 "nbformat": 4,
 "nbformat_minor": 5
}
