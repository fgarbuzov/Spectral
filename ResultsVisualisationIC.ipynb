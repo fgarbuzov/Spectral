{
 "cells": [
  {
   "cell_type": "code",
   "execution_count": 1,
   "id": "0c7972e6",
   "metadata": {
    "tags": []
   },
   "outputs": [],
   "source": [
    "import numpy as np\n",
    "import scipy as sp\n",
    "import scipy.optimize\n",
    "import scipy.integrate\n",
    "import scipy.special\n",
    "import matplotlib.pyplot as plt\n",
    "from matplotlib import animation, rc\n",
    "from matplotlib.colors import LogNorm\n",
    "import matplotlib\n",
    "from findiff import FinDiff\n",
    "from scipy.signal import savgol_filter\n",
    "\n",
    "plt.rcParams['animation.html'] = 'html5'\n",
    "rc('font',**{'family':'serif'})\n",
    "rc('text', usetex=True)\n",
    "rc('text.latex', preamble=r'\\usepackage{amsmath}')\n",
    "\n",
    "from elastic_body import *\n",
    "from utils import *\n",
    "\n",
    "import os\n",
    "import sys\n",
    "\n",
    "FIGURES_PATH = os.path.join(pathlib.Path(PROJ_PATH).parent.resolve(), 'figures')"
   ]
  },
  {
   "cell_type": "markdown",
   "id": "7bf199d7-0a64-4642-bd77-3b131fca2cf0",
   "metadata": {
    "tags": []
   },
   "source": [
    "## Load 3D results"
   ]
  },
  {
   "cell_type": "code",
   "execution_count": 21,
   "id": "d3f1a7d6-de42-459f-a7fe-daaa45dd9e47",
   "metadata": {
    "tags": []
   },
   "outputs": [],
   "source": [
    "pref = 'rod_model_material2_weak_nonlin_visc_long_reduced600_'\n",
    "path_prefix = os.path.join(PROJ_PATH, RESULTS_DIR, pref)\n",
    "# load params\n",
    "f = open(path_prefix + PARAMS_FILENAME, 'r')\n",
    "params_dict = parse_input_file(f)\n",
    "f.close()\n",
    "body, mesh = create_body_and_mesh(params_dict)\n",
    "t0, dt, tmax = params_dict[START_TIME], params_dict[TIME_STEP], params_dict[STOP_TIME]\n",
    "T = np.arange(t0, tmax + dt, dt)\n",
    "# load func\n",
    "U_func = np.load(path_prefix + U_FILENAME + '.npy')\n",
    "U = TensorField(mesh, U_func)"
   ]
  },
  {
   "cell_type": "code",
   "execution_count": 22,
   "id": "73e1571b-11d5-4590-850c-f90cc07052e2",
   "metadata": {
    "tags": []
   },
   "outputs": [
    {
     "name": "stdout",
     "output_type": "stream",
     "text": [
      "9 5400.0\n"
     ]
    }
   ],
   "source": [
    "# consider results for T >= 5.4 ms\n",
    "i0 = np.where(T==5400)[0][0]\n",
    "t0 = T[i0]\n",
    "print(i0, t0)\n",
    "T = T[i0:] - t0\n",
    "U = U[i0:]"
   ]
  },
  {
   "cell_type": "code",
   "execution_count": 23,
   "id": "1dd94bb1-174e-4817-8957-0078357860de",
   "metadata": {
    "tags": []
   },
   "outputs": [
    {
     "name": "stdout",
     "output_type": "stream",
     "text": [
      "96.0\n"
     ]
    }
   ],
   "source": [
    "# find the soliton amplitude and position at t0\n",
    "x = np.linspace(0, body.L, num=4001)\n",
    "m = x[np.argmax(-U[0,0].diff()(x + body.c0*t0,0,0))]\n",
    "A0 = (-U[0].diff()(x,0,0)).max()\n",
    "print(m)"
   ]
  },
  {
   "cell_type": "code",
   "execution_count": 24,
   "id": "edf2c723-533a-48b8-9f98-fe8140bbc9fc",
   "metadata": {
    "tags": []
   },
   "outputs": [
    {
     "data": {
      "text/plain": [
       "[<matplotlib.lines.Line2D at 0x7588bb56ab50>]"
      ]
     },
     "execution_count": 24,
     "metadata": {},
     "output_type": "execute_result"
    },
    {
     "data": {
      "image/png": "[encoded data removed]",
      "text/plain": [
       "<Figure size 400x100 with 1 Axes>"
      ]
     },
     "metadata": {},
     "output_type": "display_data"
    }
   ],
   "source": [
    "# strain profile at t0\n",
    "plt.figure(figsize=(4,1))\n",
    "plt.plot(x, -U[0,0].diff()(x + body.c0*t0,0,0))"
   ]
  },
  {
   "cell_type": "code",
   "execution_count": 25,
   "id": "1cac7058-bb43-43db-aadf-7995596dd0ed",
   "metadata": {
    "tags": []
   },
   "outputs": [
    {
     "name": "stdout",
     "output_type": "stream",
     "text": [
      "0.001367443927486663 7.705355961150567\n"
     ]
    }
   ],
   "source": [
    "# width parameter at t0\n",
    "L0 = body.soliton_kdv_width(-A0)\n",
    "print(A0, L0)"
   ]
  },
  {
   "cell_type": "markdown",
   "id": "2fb97d15-9279-44d0-bc3e-a422eaabd87f",
   "metadata": {
    "tags": []
   },
   "source": [
    "## Decaying soliton"
   ]
  },
  {
   "cell_type": "code",
   "execution_count": 26,
   "id": "c3d34061-8368-4025-b091-d04440bb55f5",
   "metadata": {
    "tags": []
   },
   "outputs": [
    {
     "name": "stderr",
     "output_type": "stream",
     "text": [
      "/home/fgarbuzov/miniconda3/envs/spectral/lib/python3.11/site-packages/scipy/integrate/_ode.py:1179: UserWarning: dop853: step size becomes too small\n",
      "  warnings.warn('{:s}: {:s}'.format(self.__class__.__name__,\n"
     ]
    }
   ],
   "source": [
    "integr = sp.integrate.ode(der_lin)\n",
    "integr.set_integrator('dop853', rtol=1e-10, atol=1e-10, nsteps=1e6)\n",
    "integr.set_f_params(body)\n",
    "integr.set_initial_value(np.array([L0, m]), t=0)\n",
    "sol_lin_decay = np.array([integr.integrate(t) for t in T])"
   ]
  },
  {
   "cell_type": "code",
   "execution_count": 27,
   "id": "541b879b-1fce-4464-b898-9f5b30525490",
   "metadata": {
    "tags": []
   },
   "outputs": [],
   "source": [
    "L_lin, x0_lin = sol_lin_decay.T\n",
    "A_lin = body.soliton_kdv_ampl(L_lin)"
   ]
  },
  {
   "cell_type": "code",
   "execution_count": 28,
   "id": "aeb2921f-0028-47fc-acda-0acac555fd93",
   "metadata": {
    "tags": []
   },
   "outputs": [
    {
     "data": {
      "text/plain": [
       "<scipy.integrate._ode.ode at 0x7588ca3dbe10>"
      ]
     },
     "execution_count": 28,
     "metadata": {},
     "output_type": "execute_result"
    }
   ],
   "source": [
    "integr = sp.integrate.ode(der_nl)\n",
    "integr.set_integrator('dop853', rtol=1e-10, atol=1e-10, nsteps=1e6)\n",
    "integr.set_f_params(body)\n",
    "integr.set_initial_value(np.array([L0, m]), t=0)"
   ]
  },
  {
   "cell_type": "code",
   "execution_count": 38,
   "id": "4216f45c-b34b-4c7c-b52d-c899007adf31",
   "metadata": {
    "tags": []
   },
   "outputs": [],
   "source": [
    "# takes some time\n",
    "sol_nl_decay = np.array([integr.integrate(t) for t in T])\n",
    "L, x0 = sol_nl_decay.T\n",
    "A = body.soliton_kdv_ampl(L)\n",
    "np.save(os.path.join(PROJ_PATH, RESULTS_DIR, pref + 'L_x0_nonlin_ref.npy'), sol_nl_decay.T)"
   ]
  },
  {
   "cell_type": "code",
   "execution_count": 31,
   "id": "20a28a2e-64dc-43e0-a139-29d22ef53021",
   "metadata": {
    "tags": []
   },
   "outputs": [],
   "source": [
    "L, x0 = np.load(os.path.join(PROJ_PATH, RESULTS_DIR, pref + 'L_x0_nonlin_ref.npy'))\n",
    "A = body.soliton_kdv_ampl(L)"
   ]
  },
  {
   "cell_type": "markdown",
   "id": "a6bb9d89-68ab-410c-93d2-86cf02f3072e",
   "metadata": {},
   "source": [
    "## Comparison with 3D simulation"
   ]
  },
  {
   "cell_type": "code",
   "execution_count": 32,
   "id": "c3e421d9-8ded-413e-b412-6f0a9c7527d5",
   "metadata": {
    "tags": []
   },
   "outputs": [
    {
     "name": "stdout",
     "output_type": "stream",
     "text": [
      "96.0\n"
     ]
    },
    {
     "data": {
      "text/plain": [
       "<matplotlib.legend.Legend at 0x7588bb5935d0>"
      ]
     },
     "execution_count": 32,
     "metadata": {},
     "output_type": "execute_result"
    },
    {
     "data": {
      "image/png": "[encoded data removed]",
      "text/plain": [
       "<Figure size 300x400 with 1 Axes>"
      ]
     },
     "metadata": {},
     "output_type": "display_data"
    }
   ],
   "source": [
    "fig, ax = plt.subplots(figsize=(3,4))\n",
    "col = ['C0', 'C1', 'C2', 'C3']\n",
    "x_sc = 1#body.R\n",
    "t_sc = 1#body.R/body.c0\n",
    "n = 6\n",
    "shift = 1.5\n",
    "u_scale = 1e-3\n",
    "print(m)\n",
    "T_loc = T[T<40000-t0+dt]\n",
    "nt = len(T_loc)\n",
    "for j, t_i in enumerate(range(0, nt, (nt - 1)//(n-1))):\n",
    "    u_sol_lin = -body.soliton_kdv(A_lin[t_i], x - (x0_lin[t_i] - body.c0*T[t_i]), 0)[0]\n",
    "    u_sol = -body.soliton_kdv(A[t_i], x - (x0[t_i] - body.c0*T[t_i]), 0)[0]\n",
    "    ax.plot((x - m)/x_sc, j*shift + u_sol_lin/u_scale, '--', lw=0.5, c='C1')\n",
    "    ax.plot((x - m)/x_sc, j*shift + u_sol/u_scale, '-.', lw=0.5, c='C2')\n",
    "    u = -U[t_i, 0].diff()\n",
    "    ax.plot((x - m)/x_sc, j*shift + u(x + body.c0*(T[t_i]+t0), 0, 0)/u_scale, lw=1, c='C0')\n",
    "    ax.text(x[10]-m, j*shift+0.3*shift/2.5, \"$t = %.1f$ ms\" % (round((t0 + T[t_i]))/1000))\n",
    "ax.margins(x=0)\n",
    "ax.set_xlim(-100, 150)\n",
    "ax.set_xlabel('$x - ct,$ mm')\n",
    "ax.set_ylabel('Negative longitudinal strain, $\\\\times 10^{-3}$')\n",
    "ax.legend(['theory, linear dissipation', \n",
    "           'theory, nonlin. dissipation',\n",
    "           '3D simulation'], loc='center left', bbox_to_anchor=(1, 0.5))"
   ]
  },
  {
   "cell_type": "code",
   "execution_count": null,
   "id": "6bf8d99d-9cbf-4509-b6c5-57386f098654",
   "metadata": {},
   "outputs": [],
   "source": []
  }
 ],
 "metadata": {
  "kernelspec": {
   "display_name": "Python 3 (ipykernel)",
   "language": "python",
   "name": "python3"
  },
  "language_info": {
   "codemirror_mode": {
    "name": "ipython",
    "version": 3
   },
   "file_extension": ".py",
   "mimetype": "text/x-python",
   "name": "python",
   "nbconvert_exporter": "python",
   "pygments_lexer": "ipython3",
   "version": "3.11.10"
  }
 },
 "nbformat": 4,
 "nbformat_minor": 5
}
